{
 "cells": [
  {
   "cell_type": "code",
   "execution_count": 1,
   "metadata": {},
   "outputs": [],
   "source": [
    "bracket_open = [\"[\",\"{\",\"(\"] #List of chars that open\n",
    "bracket_close = [\"]\",\"}\",\")\"] #List of chars that close\n",
    "apost_list = ['\"', \"'\"] #The same char can open and close, so only one list is necessary\n",
    "\n",
    "def check(str):\n",
    "    stack = [] #We utilize an stack to control what is being validated\n",
    "    b = 0 #Used on the apostrophe and quotes validation\n",
    "    for i in str: #For each char in the string\n",
    "        if i in bracket_open: #If the char is in the bracket_open list\n",
    "            stack.append(i) #Append that char to the stack\n",
    "        elif i in bracket_close: #Else if the char is in the bracket_close list\n",
    "            pos = bracket_close.index(i) #Set the value of pos as the index number of that char in the list\n",
    "            if ((len(stack) > 0) and #If the lenght of the stack is more than 0\n",
    "                (bracket_open[pos] == stack[len(stack)-1])): #and the char in the bracket_open list is equal to the last one in the stack\n",
    "                stack.pop() #Deletes the topmost element of the stack\n",
    "            else:\n",
    "                return \"Unbalanced\"\n",
    "        elif i in apost_list: #Read the char, if it is in the list, it adds +1 to b\n",
    "                b = b+1\n",
    "\n",
    "    if len(stack) and b == 0: #if the lenght of the stack and b is equal to 0, the brackets are balanced\n",
    "        return \"Balanced\"\n",
    "\n",
    "    elif len(stack) > 0: #else if the lenght of the stack is more than 0, then the brackets are not balanced\n",
    "        return \"Unbalanced\"\n",
    "\n",
    "    elif b%2 == 0: #else if b divided by 2 is equal to 0, then \" and/or ' brackets are balanced\n",
    "            return \"Balanced\"\n",
    "    else:\n",
    "        return \"Unbalanced\""
   ]
  },
  {
   "cell_type": "code",
   "execution_count": 2,
   "metadata": {},
   "outputs": [
    {
     "name": "stdout",
     "output_type": "stream",
     "text": [
      "''[a(1x)]'' - Balanced\n"
     ]
    }
   ],
   "source": [
    "string = \"''[a(1x)]''\" #string that will be read\n",
    "print(string, \"-\", check(string)) #print the string and call the function to validate the balance"
   ]
  }
 ],
 "metadata": {
  "kernelspec": {
   "display_name": "Python 3.10.7 64-bit",
   "language": "python",
   "name": "python3"
  },
  "language_info": {
   "codemirror_mode": {
    "name": "ipython",
    "version": 3
   },
   "file_extension": ".py",
   "mimetype": "text/x-python",
   "name": "python",
   "nbconvert_exporter": "python",
   "pygments_lexer": "ipython3",
   "version": "3.10.7"
  },
  "orig_nbformat": 4,
  "vscode": {
   "interpreter": {
    "hash": "1671dee95b59b0c3cce4323339bafb6a65346759ed0b0dbb080da054060cd23c"
   }
  }
 },
 "nbformat": 4,
 "nbformat_minor": 2
}
