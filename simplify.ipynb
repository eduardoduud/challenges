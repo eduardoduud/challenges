{
 "cells": [
  {
   "cell_type": "code",
   "execution_count": 5,
   "metadata": {},
   "outputs": [],
   "source": [
    "import matplotlib.pyplot as plt\n",
    "from rdp import rdp\n",
    "\n",
    "#function to reduce the number of points of a polygon\n",
    "def simplify():\n",
    "    '''We are utilising the Ramer-Douglas-Peucker algorithm for the reduction of the number of points required \n",
    "    to represent a digitized line or its caricature\n",
    "    It's super simple, just call the function rdp before the list of points'''\n",
    "    coord = rdp([[1,1], [1,2], [1,3], [2,3], [2,4], [3,4], [3,3], [3,2], [2,2], [2,1], [1,1]])\n",
    "    xs, ys = zip(*coord) #Yield tuples of coord to the xs and ys axis\n",
    "\n",
    "    plt.figure()\n",
    "    plt.plot(xs,ys)\n",
    "    plt.xticks([0,1,2,3,4,5])\n",
    "    plt.yticks([0,1,2,3,4,5])\n",
    "    print(f\"Path simplified is: {coord}\") #Reduced list that defines the same polygon\n",
    "    return plt.show()"
   ]
  },
  {
   "cell_type": "code",
   "execution_count": 6,
   "metadata": {},
   "outputs": [
    {
     "name": "stdout",
     "output_type": "stream",
     "text": [
      "Path simplified is: [[1, 1], [1, 3], [2, 3], [2, 4], [3, 4], [3, 2], [2, 2], [2, 1], [1, 1]]\n"
     ]
    },
    {
     "data": {
      "image/png": "[encoded data removed]",
      "text/plain": [
       "<Figure size 640x480 with 1 Axes>"
      ]
     },
     "metadata": {},
     "output_type": "display_data"
    }
   ],
   "source": [
    "simplify()"
   ]
  }
 ],
 "metadata": {
  "kernelspec": {
   "display_name": "Python 3.10.7 64-bit",
   "language": "python",
   "name": "python3"
  },
  "language_info": {
   "codemirror_mode": {
    "name": "ipython",
    "version": 3
   },
   "file_extension": ".py",
   "mimetype": "text/x-python",
   "name": "python",
   "nbconvert_exporter": "python",
   "pygments_lexer": "ipython3",
   "version": "3.10.7"
  },
  "orig_nbformat": 4,
  "vscode": {
   "interpreter": {
    "hash": "1671dee95b59b0c3cce4323339bafb6a65346759ed0b0dbb080da054060cd23c"
   }
  }
 },
 "nbformat": 4,
 "nbformat_minor": 2
}
